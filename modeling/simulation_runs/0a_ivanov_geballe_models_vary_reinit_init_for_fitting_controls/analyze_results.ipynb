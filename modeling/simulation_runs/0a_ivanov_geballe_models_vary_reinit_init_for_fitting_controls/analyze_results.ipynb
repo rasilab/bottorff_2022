{
 "cells": [
  {
   "cell_type": "markdown",
   "metadata": {},
   "source": [
    "# Analyze results of simulations"
   ]
  },
  {
   "cell_type": "code",
   "execution_count": null,
   "metadata": {},
   "outputs": [],
   "source": [
    "library(tidyverse)\n",
    "library(rasilabRtemplates)\n",
    "library(viridis)"
   ]
  },
  {
   "cell_type": "code",
   "execution_count": null,
   "metadata": {},
   "outputs": [],
   "source": [
    "rxn_data <- list.files(\"output/\", pattern = \"rxn_list.tsv.gz\", full.names = T) %>% \n",
    "  enframe() %>% \n",
    "  mutate(sim_id = as.integer(str_extract(value, \"(?<=model_)\\\\d+\"))) %>% \n",
    "  mutate(data = map(value, read_tsv)) %>%\n",
    "  select(-name, -value) %>% \n",
    "  unnest() %>%\n",
    "  print()"
   ]
  },
  {
   "cell_type": "code",
   "execution_count": null,
   "metadata": {},
   "outputs": [],
   "source": [
    "sim_data <- list.files(\"output/\", pattern = \"molecule_type_list.tsv.gz\", full.names = T) %>% \n",
    "  enframe() %>% \n",
    "  mutate(sim_id = as.integer(str_extract(value, \"(?<=model_)\\\\d+\"))) %>% \n",
    "  mutate(data = map(value, read_tsv)) %>%\n",
    "  select(-name, -value) %>% \n",
    "  unnest() %>% \n",
    "  filter(mol_type %in% c(\"simulated_time\", \"cpu_time\")) %>% \n",
    "  spread(mol_type, mol_type_id) %>% \n",
    "  print()"
   ]
  },
  {
   "cell_type": "code",
   "execution_count": null,
   "metadata": {},
   "outputs": [],
   "source": [
    "last_rxn_data <- list.files(\"output/\", pattern = \"molecule_type_list.tsv.gz\", full.names = T) %>% \n",
    "  enframe() %>% \n",
    "  mutate(sim_id = as.integer(str_extract(value, \"(?<=model_)\\\\d+\"))) %>% \n",
    "  mutate(data = map(value, read_tsv)) %>%\n",
    "  select(-name, -value) %>% \n",
    "  unnest() %>% \n",
    "  filter(mol_type == \"last_rxn_firing_time\") %>%\n",
    "  spread(mol_type, mol_type_id) %>% \n",
    "  print()"
   ]
  },
  {
   "cell_type": "code",
   "execution_count": null,
   "metadata": {},
   "outputs": [],
   "source": [
    "check_rxn <- last_rxn_data %>%\n",
    "  left_join(sim_data, by = \"sim_id\") %>%\n",
    "  mutate(ratio = last_rxn_firing_time / simulated_time) %>%\n",
    "  filter(ratio < 0.999) %>%\n",
    "  print()"
   ]
  },
  {
   "cell_type": "code",
   "execution_count": null,
   "metadata": {},
   "outputs": [],
   "source": [
    "annotations  <- read_tsv('sim.params.tsv') %>%\n",
    "  print()"
   ]
  },
  {
   "cell_type": "code",
   "execution_count": null,
   "metadata": {},
   "outputs": [],
   "source": [
    "psr_data <- rxn_data %>% \n",
    "  mutate(mrna_loc = str_extract(name, \"\\\\d+$\")) %>% \n",
    "  left_join(annotations %>% select(sim_id, uorf2_stop, orf_stop), by = \"sim_id\") %>% \n",
    "  filter((mrna_loc == orf_stop) & str_detect(name, \"terminate\")) %>% \n",
    "  group_by(sim_id, mrna_loc) %>% \n",
    "  dplyr::summarize(n_firings = sum(n_firings)) %>% \n",
    "  left_join(sim_data, by = \"sim_id\") %>% \n",
    "  mutate(psr = n_firings / simulated_time) %>% \n",
    "  select(sim_id, mrna_loc, psr) %>% \n",
    "  print()"
   ]
  },
  {
   "cell_type": "code",
   "execution_count": null,
   "metadata": {},
   "outputs": [],
   "source": [
    "param_data <- annotations %>% \n",
    "    select(sim_id, k_cap_bind, k_elong_stall, k_start_uorf2, k_scan_term_3_hit_80s, k_terminated_ssu_recycle_uorf2) %>%\n",
    "  print()"
   ]
  },
  {
   "cell_type": "code",
   "execution_count": null,
   "metadata": {},
   "outputs": [],
   "source": [
    "data <- param_data %>% \n",
    "  left_join(psr_data, by = \"sim_id\") %>%\n",
    "  dplyr::rename(k_recycle = k_terminated_ssu_recycle_uorf2,\n",
    "         k_abort = k_scan_term_3_hit_80s\n",
    "         ) %>% \n",
    "  mutate(k_recycle = round(k_recycle)) %>% \n",
    "  print()"
   ]
  },
  {
   "cell_type": "code",
   "execution_count": null,
   "metadata": {},
   "outputs": [],
   "source": [
    "plot_data <- data %>%\n",
    "  print()\n",
    "\n",
    "plot_data %>% \n",
    "  ggplot(aes(x = log2(k_cap_bind), y = log2(psr), color = as.factor(k_elong_stall),  group = k_elong_stall)) +\n",
    "  facet_wrap(~ k_abort + k_start_uorf2 + k_recycle, ncol = 3, labeller = label_both, scales = \"free\") +\n",
    "  geom_point() +\n",
    "  geom_line() +\n",
    "  scale_color_manual(values = cbPalette[c(2,1)])"
   ]
  },
  {
   "cell_type": "code",
   "execution_count": null,
   "metadata": {},
   "outputs": [],
   "source": [
    "expt_data <- read_csv(\"tables/nluc_fluc_control_mutants.csv\") %>% \n",
    "  mutate(label = c(\"wt\", \"no_stall\", \"no_aug\", \"strong\")) %>% \n",
    "  select(label, mean_ratio) %>%\n",
    "  deframe() %>%\n",
    "  print()"
   ]
  },
  {
   "cell_type": "markdown",
   "metadata": {},
   "source": [
    "fit_data <- data %>% \n",
    "  group_by(across(starts_with(\"k_\"))) %>% \n",
    "  ungroup(k_cap_bind) %>% \n",
    "  nest() %>% \n",
    "  mutate(fit = map(data, function(df) spline(x = df$k_cap_bind, y = df$psr, n = 100) %>% as.data.frame)) %>% \n",
    "  select(-data) %>%\n",
    "  unnest(fit) %>%\n",
    "  rename(k_cap_bind = x, psr = y) %>%\n",
    "  print()"
   ]
  },
  {
   "cell_type": "markdown",
   "metadata": {},
   "source": [
    "fit_data %>% \n",
    "  ungroup() %>% \n",
    "  # convert stall to be a binary factor\n",
    "  mutate(stall = if_else(k_elong_stall == 0.001, T, F)) %>% \n",
    "  # convert uORF2 start strength to be binary\n",
    "  mutate(kozak = if_else(k_start_uorf2 == 0.5, \"WT\", if_else(k_start_uorf2 == 0, \"no_aug\", \"strong\"))) %>% \n",
    "  # assign mutant to the same names as experiments for easy comparison\n",
    "  mutate(mutant = case_when(\n",
    "    stall == T & kozak == \"WT\" ~ 'wt',\n",
    "    stall == T & kozak == \"strong\" ~ 'strong',\n",
    "    stall == F & kozak == \"WT\" ~ 'no_stall',\n",
    "    stall == T & kozak == \"no_aug\" ~ \"no_aug\")) %>% \n",
    "  # get rid of the of mutants that we are not minimizing (eg. strong kozak, no stall)\n",
    "  filter(!is.na(mutant)) %>% \n",
    "  select(-stall, -kozak, -k_elong_stall, -k_start_uorf2) %>% \n",
    "  pivot_wider(names_from = \"mutant\", values_from = \"psr\") %>%\n",
    "  # calculate the log2 difference between no_stall and wt / strong\n",
    "  mutate(wt = log2(wt) - log2(no_aug)) %>% \n",
    "  mutate(strong = log2(strong) - log2(no_aug)) %>%\n",
    "  mutate(no_stall = log2(no_stall) - log2(no_aug)) %>%\n",
    "  # calculate RMS error\n",
    "  mutate(rms = (wt - expt_data['wt'])^2 + (strong - expt_data['strong'])^2) %>% \n",
    "  # minimize RMS error in each model and for other parameters as needed\n",
    "  group_by(k_abort) %>%\n",
    "  arrange(rms) %>%\n",
    "  slice(1) %>%\n",
    "  write_csv(\"./tables/fit_k_cap_bind.csv\") %>%\n",
    "  knitr::kable()"
   ]
  },
  {
   "cell_type": "markdown",
   "metadata": {},
   "source": [
    "other_data <- read_csv(\"../0c_andreev_vary_params_for_fitting_controls/tables/fit_params.csv\") %>%\n",
    "  mutate(Model = \"80S-hit\") %>%\n",
    "  print()"
   ]
  },
  {
   "cell_type": "markdown",
   "metadata": {},
   "source": [
    "plot_data_controls <- read_csv(\"./tables/fit_k_cap_bind.csv\") %>%\n",
    "  mutate(Model = if_else(k_abort == 0, \"traffic jam-mediated enhanced repression\", \"collide and dissociate\")) %>%\n",
    "  full_join(other_data) %>%\n",
    "  select(-rms, -k_recycle) %>%\n",
    "  pivot_longer(cols = no_aug:strong, names_to = \"mutant\", values_to = \"psr\") %>%\n",
    "  print()\n",
    "\n",
    "plot_data_controls$mutant <- factor(plot_data_controls$mutant, levels=c(\"wt\", \"no_stall\", \"no_aug\", \"strong\"), labels=c(\"wild-type\", \"no stall\", \"no start codon\", \"stronger Kozak\"))\n",
    "\n",
    "plot_data_controls %>%\n",
    "  ggplot(aes(x = psr, y = mutant, shape = Model)) +\n",
    "  geom_jitter() +\n",
    "  scale_color_viridis(discrete = T, end = 0.9) +\n",
    "  scale_x_continuous(breaks = scales::pretty_breaks(n=3)) +\n",
    "  theme(axis.text.y = element_text(size = 7), axis.text.x = element_text(size = 7), axis.title.y=element_blank()) +\n",
    "  labs(x = \"log2 main ORF protein output (s-1)\", y = \"Mutant\")\n",
    "  \n",
    "  ggsave('figures/fit_params_predicted_controls.pdf')"
   ]
  }
 ],
 "metadata": {
  "kernelspec": {
   "display_name": "Rconda",
   "language": "R",
   "name": "ir"
  },
  "language_info": {
   "codemirror_mode": "r",
   "file_extension": ".r",
   "mimetype": "text/x-r-source",
   "name": "R",
   "pygments_lexer": "r",
   "version": "4.1.1"
  },
  "orig_nbformat": 4
 },
 "nbformat": 4,
 "nbformat_minor": 2
}
